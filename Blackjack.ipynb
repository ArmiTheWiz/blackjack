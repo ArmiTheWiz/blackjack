{
  "nbformat": 4,
  "nbformat_minor": 0,
  "metadata": {
    "colab": {
      "name": "Blackjack",
      "provenance": [],
      "collapsed_sections": [],
      "include_colab_link": true
    },
    "kernelspec": {
      "name": "python3",
      "display_name": "Python 3"
    },
    "language_info": {
      "name": "python"
    }
  },
  "cells": [
    {
      "cell_type": "markdown",
      "metadata": {
        "id": "view-in-github",
        "colab_type": "text"
      },
      "source": [
        "<a href=\"https://colab.research.google.com/github/arangokcodes/blackjack/blob/main/Blackjack.ipynb\" target=\"_parent\"><img src=\"https://colab.research.google.com/assets/colab-badge.svg\" alt=\"Open In Colab\"/></a>"
      ]
    },
    {
      "cell_type": "code",
      "metadata": {
        "id": "KuOdlFftKovt",
        "colab": {
          "base_uri": "https://localhost:8080/"
        },
        "outputId": "c9b72447-3e76-4355-ff10-eba73ff507d2"
      },
      "source": [
        "import random\n",
        "\n",
        "de_c_1 = random.randint(1, 13)\n",
        "de_c_2 = random.randint(1, 13)\n",
        " \n",
        "pl_c_1 = random.randint(1, 13)\n",
        "pl_c_2 = random.randint(1, 13)\n",
        " \n",
        "if de_c_1 > 10:\n",
        "    de_c_1 = 10\n",
        " \n",
        "if de_c_2 > 10:\n",
        "    de_c_2 = 10\n",
        " \n",
        "if pl_c_1 > 10:\n",
        "    pl_c_1 = 10\n",
        " \n",
        "if pl_c_2 > 10:\n",
        "    pl_c_2 = 10\n",
        " \n",
        "sum_of_de_c = de_c_1 + de_c_2\n",
        "sum_of_pl_c = pl_c_1 + pl_c_2\n",
        "\n",
        "print(sum_of_pl_c)\n",
        "print(sum_of_de_c)\n",
        "\n",
        "if pl_c_1 == 1:\n",
        "  pl_rspnd = (input(\"Would you like to change it to 11 ? \"))\n",
        "  if pl_rspnd.lower() == \"y\":\n",
        "    pl_c_1 = 11\n",
        "  \n",
        "  sum_of_pl_c = pl_c_1 + pl_c_2\n",
        "  print(sum_of_pl_c)\n",
        " \n",
        "if pl_c_2 == 1:\n",
        "  pl_rspnd = (input(\"Would you like to change it to 11 ? \"))\n",
        "  if pl_rspnd.lower() == \"y\":\n",
        "    pl_c_2 = 11\n",
        "  \n",
        "  sum_of_pl_c = pl_c_1 + pl_c_2\n",
        "  print(sum_of_pl_c)\n",
        " \n",
        "while sum_of_pl_c <=21:\n",
        "  \n",
        "  a = (input(\"Would you like to draw a card ? \"))\n",
        "  if a.lower() == \"y\":\n",
        "    hit_card = random.randint(1, 13)\n",
        "    print(str(hit_card))\n",
        "    if hit_card > 10:\n",
        "      hit_card = 10\n",
        "        \n",
        "    if hit_card == 1:\n",
        "      hit_card_change = (input(\"Would you like to change it to 11 ? \"))\n",
        "      if hit_card_change.lower() == \"y\":\n",
        "        hit_card = 11 \n",
        "      \n",
        "    sum_of_pl_c = sum_of_pl_c + hit_card\n",
        "    print(sum_of_pl_c)\n",
        "  else:\n",
        "    break\n",
        "\n",
        "\n",
        "while sum_of_de_c <17 and sum_of_de_c < sum_of_pl_c :\n",
        " \n",
        "  de_hit_card = random.randint(1, 12)\n",
        "  \n",
        "  if de_hit_card > 10:\n",
        "    de_hit_card = 10\n",
        "  if de_hit_card == 1:\n",
        "    if sum_of_de_c > 11:\n",
        "      sum_of_de_c = sum_of_de_c + de_hit_card\n",
        "    elif sum_of_de_c < 11:\n",
        "      de_hit_card = 11\n",
        "      sum_of_de_c = sum_of_de_c + de_hit_card\n",
        "\n",
        "  else:    \n",
        "    sum_of_de_c = sum_of_de_c + de_hit_card\n",
        "  \n",
        "  print(\"Dealer hit card\",\"--->\",de_hit_card)\n",
        "  print(\"Sum of dealer hand =\",sum_of_de_c)\n",
        "\n",
        "if sum_of_pl_c > 21:\n",
        "  print(\"You busted because\" , sum_of_pl_c , \"> 21\")\n",
        "elif sum_of_de_c > 21:\n",
        "  print(\"Dealer busted because\" , sum_of_de_c , \"> 21\")\n",
        "elif sum_of_de_c < sum_of_pl_c:\n",
        "  print(\"You Win because\" , sum_of_pl_c , \">\" , sum_of_de_c)\n",
        "elif sum_of_pl_c < sum_of_de_c:\n",
        "  print(\"You Lost because\" , sum_of_de_c , \">\" , sum_of_pl_c)\n",
        "else:\n",
        "  print(\"Draw\" , sum_of_de_c , \"=\" , sum_of_pl_c)"
      ],
      "execution_count": null,
      "outputs": [
        {
          "output_type": "stream",
          "text": [
            "7\n",
            "9\n",
            "Would you like to draw a card ? y\n",
            "13\n",
            "17\n",
            "Would you like to draw a card ? n\n",
            "Dealer hit card ---> 10\n",
            "Sum of dealer hit card = 19\n",
            "You Lost because 19 > 17\n"
          ],
          "name": "stdout"
        }
      ]
    }
  ]
}